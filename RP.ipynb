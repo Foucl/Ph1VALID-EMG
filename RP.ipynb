{
 "cells": [
  {
   "cell_type": "markdown",
   "metadata": {
    "cell_style": "center",
    "collapsed": false,
    "scrolled": true
   },
   "source": [
    "# (Pre)processing Pipeline Ph1VALID (EMG)\n",
    "\n",
    "## Data Management\n",
    "- data collected during the experiment is stored in folders named for the subject id\n",
    "- EMG data and the logfiles of Neurobs Presesntation were stored seperately\n",
    "\n",
    "| directory     | location           | purpose        |\n",
    "| ------------- |:------------------:| ----------------:|\n",
    "| **ph1valid_data** | %USERPROFILE% / ~  | raw data storage |\n",
    "| **ph1valid_out**  | %USERPROFILE% / ~  | results, figures |\n",
    "| **ph1VALID-EMG**  |                    | analysis pipeline |\n",
    "\n",
    "\n",
    "\n",
    "```\n",
    "ph1valid_data\\\n",
    "│   \n",
    "├───EMG_raw\\\n",
    "│   │\n",
    "│   ├───VP01\\\n",
    "│   │   │  VP01_20160518.bdf\n",
    "│   │\n",
    "│   ├───VP02\\\n",
    "│   │   │  VP14_20160519.bdf\n",
    "│   │ ...\n",
    "│\n",
    "├───Presentation_logfiles\\\n",
    "│   │\n",
    "│   ├───VP01\\\n",
    "│   │   │  VP01_RP.tsv\n",
    "│   │   │  VP01_TS_l.tsv\n",
    "│   │   │  VP01_M_subjinfo.tsv\n",
    "│   │   │  VP01_ValidExp.log\n",
    "│   │ \n",
    "│   ├───VP02\\\n",
    "│      ...\n",
    "│\n",
    "└───Unipark_Export\\\n",
    "        data_project_575802_2016_06_10.csv\n",
    "```\n",
    "\n",
    "\n",
    "- Intermediate results are stored after each step of the processing pipeline:\n",
    "\n",
    "```\n",
    "ph1valid_out\\\n",
    "│   \n",
    "├───EMG_preprocessed\\\n",
    "│   │\n",
    "│   ├───VP01\\\n",
    "│   │   │  VP01_20160518.bdf\n",
    "│   │\n",
    "│   ├───VP02\\\n",
    "│   │   │  VP14_20160519.bdf\n",
    "│   │ ...\n",
    "│\n",
    "├───subjmfiles\\\n",
    "│   │\n",
    "│   ├───VP01\\\n",
    "│   │   │  VP01_RP.tsv\n",
    "│   │   │  VP01_TS_l.tsv\n",
    "│   │   │  VP01_M_subjinfo.tsv\n",
    "│   │   │  VP01_ValidExp.log\n",
    "│   │ \n",
    "│   ├───VP02\\\n",
    "│      ...\n",
    "│\n",
    "└───Grand_Averages\\\n",
    "        tlga_rp.mat\n",
    "        tlga_ts.mat\n",
    "```\n",
    "\n",
    "- The 'subjmfile' of each subject contains all Information that has been gathered or calculated:\n",
    "    - Block Order and letter-response matching\n",
    "    - date of experimental procedure\n",
    "    - all demographic and other information given by the subject during the experimental run\n",
    "    - output of preprocessing (data quality, nr of trials, amplitudes, errors etc.)\n",
    "    - output of classification (Omissions, False Positives, Response Times etc.)\n",
    "    - results of the NEO-FFI survey\n",
    "- can be loaded (as structure 'subjinfo') into the Matlab workspace with 'eval(<filename>)'"
   ]
  },
  {
   "cell_type": "markdown",
   "metadata": {
    "collapsed": false
   },
   "source": [
    "## Preprocessing"
   ]
  },
  {
   "cell_type": "markdown",
   "metadata": {
    "collapsed": false
   },
   "source": [
    "--------  -----------------------\n",
    "keyword   text\n",
    "--------  -----------------------\n",
    "red       Sunsets, apples, and\n",
    "          other red or reddish\n",
    "          things.\n",
    "\n",
    "green     Leaves, grass, frogs\n",
    "          and other things it's\n",
    "          not easy being.\n",
    "--------  -----------------------"
   ]
  },
  {
   "cell_type": "code",
   "execution_count": 2,
   "metadata": {
    "ExecuteTime": {
     "start_time": "2016-06-21T14:54:46.446Z"
    },
    "collapsed": false
   },
   "outputs": [
    {
     "name": "stderr",
     "output_type": "stream",
     "text": [
      "File D:\\Program Files\\MATLAB\\R2016a\\toolbox\\matlab\\datatypes\\cell2mat.p, line 27, in cell2mat\n",
      "No input argument specified. There should be exactly one input argument.\n"
     ]
    }
   ],
   "source": [
    "cell2mat()"
   ]
  },
  {
   "cell_type": "code",
   "execution_count": 7,
   "metadata": {
    "collapsed": false
   },
   "outputs": [],
   "source": [
    "%edit 'functions/ph1valid01_prepro.m'</div><i class=\"fa fa-lightbulb-o \"></i>"
   ]
  },
  {
   "cell_type": "code",
   "execution_count": 3,
   "metadata": {
<<<<<<< HEAD
    "cell_style": "split",
=======
>>>>>>> bc156be312780c5becb19935f2aa588c0f23916f
    "collapsed": false,
    "format": "row",
    "scrolled": true
   },
   "outputs": [
    {
     "name": "stdout",
     "output_type": "stream",
     "text": [
<<<<<<< HEAD
      "a =\n",
      "\n",
      "     6\n"
=======
      "ans = \n",
      "\n",
      "               userDir: 'C:\\Users\\chdan'\n",
      "              userName: 'chdan'\n",
      "          computerName: 'DESKTOP-83EJANV'\n",
      "    localDataDirExists: 1\n",
      "               dataDir: 'C:\\Users\\chdan\\ph1valid_data'\n",
      "                outDir: 'C:\\Users\\chdan\\ph1valid_out'\n",
      "            toolboxDir: 'C:\\Users\\chdan\\Matlab-toolboxes'\n",
      "             emgRawDir: 'C:\\Users\\chdan\\ph1valid_data\\EMG_raw'\n",
      "       presentationDir: 'C:\\Users\\chdan\\ph1valid_data\\Presentation-logfiles'\n",
      "          emgPreproDir: 'C:\\Users\\chdan\\ph1valid_out\\EMG_preprocessed'\n",
      "          subjmfileDir: 'C:\\Users\\chdan\\ph1valid_out\\subjmfiles'\n",
      "            projectDir: 'C:\\users\\chdan\\cd\\Ph1VALID-EMG\\pipeline'\n",
      "        projectBaseDir: 'C:\\users\\chdan\\cd\\Ph1VALID-EMG'\n"
>>>>>>> bc156be312780c5becb19935f2aa588c0f23916f
     ]
    }
   ],
   "source": [
<<<<<<< HEAD
    "a = 6"
=======
    "ans"
>>>>>>> bc156be312780c5becb19935f2aa588c0f23916f
   ]
  },
  {
   "cell_type": "code",
   "execution_count": null,
   "metadata": {
    "collapsed": true
   },
   "outputs": [],
   "source": []
  }
 ],
 "metadata": {
  "gist": {
   "data": {
    "description": "RP.ipynb",
    "public": false
   },
   "id": ""
  },
  "kernelspec": {
   "display_name": "Matlab",
   "language": "matlab",
   "name": "matlab"
  },
  "language_info": {
   "codemirror_mode": "octave",
   "file_extension": ".m",
   "help_links": [
    {
     "text": "MetaKernel Magics",
     "url": "https://github.com/calysto/metakernel/blob/master/metakernel/magics/README.md"
    }
   ],
   "mimetype": "text/x-octave",
   "name": "matlab",
   "version": "0.10.1"
  },
  "nav_menu": {
   "height": "103px",
   "width": "267px"
  },
  "toc": {
   "navigate_menu": true,
   "number_sections": true,
   "sideBar": true,
   "threshold": 6,
   "toc_cell": false,
   "toc_section_display": "block",
   "toc_window_display": true
  },
  "toc_position": {
   "height": "849px",
   "left": "0px",
   "right": "1708px",
   "top": "106px",
   "width": "212px"
  }
 },
 "nbformat": 4,
 "nbformat_minor": 0
}
