{
 "cells": [
  {
   "cell_type": "markdown",
   "metadata": {},
   "source": [
    "# Cross Correlation EMG-FACET VP46, Response Priming, Anger valid\n",
    "\n",
    "### I. Prepro Steps:\n",
    "\n",
    "using fieldtrip toolbox with custom import functions for FACET-export\n",
    "\n",
    "- Segment Data, selecting only anger valid trials (both)\n",
    "- baseline correct ([-0.1 0]) (both)\n",
    "- upsample FACET to Fs=128\n",
    "- lp filter (both)\n",
    "- calculate montages (Cor & Zyg) for EMG\n",
    "- rectify EMG\n",
    "- z-transform all Channels\n",
    "(--> no exclusion of error trials etc)\n",
    "\n",
    "### II. Signal Comparison analysis\n",
    "\n",
    "using standard matlab functions\n",
    "\n",
    "Iterate over trials, for each trial:\n",
    "1. calculate Cross Correlation Function\n",
    "2. calculate pearson correlation coefficient for unaligned signals\n",
    "3. align signals (using max of 1)\n",
    "4. recalculate pearson correlation with aligned signales\n",
    "\n",
    "with `dat.trial` being an array of 80 cells (one for each trial) and each array being a 4x576 array (4 channels, 576 sampling points). The 2nd channel is the (normalized) anger evidence score, the 3rd the (normalized) EMG Corrugator amplitude:"
   ]
  },
  {
   "cell_type": "code",
   "execution_count": null,
   "metadata": {
    "collapsed": true
   },
   "outputs": [],
   "source": [
    "for i = 1:length(dat.trial)\n",
    "    curdat = dat.trial{i};\n",
    "    S_fac = curdat(2,:);\n",
    "    S_emg = curdat(3,:);\n",
    "    r = corrcoef(S_fac, S_emg;\n",
    "    r_raw(i) = r(1,2);\n",
    "    [C1,lag1] = xcorr(S_fac,S_emg);\n",
    "    \n",
    "    [~,I] = max(abs(C1));\n",
    "    SampleDiff(i) = lag1(I);\n",
    "    timeDiff(i) = SampleDiff(i)/Fs;\n",
    "    \n",
    "    [S_fac_cor, S_emg_cor] = alignsignals(S_fac, S_emg,[], 'truncate');\n",
    "    r = corrcoef(S_fac_cor, S_emg_cor, 'rows', 'complete');\n",
    "    r_alg(i) = r(1,2);\n",
    "end;"
   ]
  },
  {
   "cell_type": "markdown",
   "metadata": {},
   "source": [
    "### III. Results\n",
    "\n",
    "- minimal lag (FACET signal is on average ~70ms ahead in each trial)\n",
    "- mean pearson correlation of (aligned) signals (across trials): mean(r_alg) = 0.889 (for unaligned signals: mean(r_raw)=0.876\n",
    "\n",
    "#### III.1. Examples\n",
    "##### III.1.1. 'Best' trial (highest correlation)"
   ]
  },
  {
   "cell_type": "code",
   "execution_count": null,
   "metadata": {
    "collapsed": true
   },
   "outputs": [],
   "source": [
    "[rmax, rmax_ind] = max(r_alg);\n",
    "\n",
    "S_fac = dat.trial{rmax_ind}(2,:);\n",
    "S_emg = dat.trial{rmax_ind}(3,:);\n",
    "Fs = 128;\n",
    "\n",
    "[C1,lag1] = xcorr(S_fac,S_emg);\n",
    "\n",
    "figure\n",
    "ax(1) = subplot(311);\n",
    "plot((0:numel(S_emg)-1)/Fs,S_emg,'k');\n",
    "ylabel('EMG: Corrugator (normalized)');\n",
    "grid on\n",
    "ax(2) = subplot(312);\n",
    "plot((0:numel(S_fac)-1)/Fs,S_fac,'r');\n",
    "ylabel('FACET: Anger Evidence Score (normalized)');\n",
    "grid on\n",
    "ax(3) = subplot(313);\n",
    "plot(lag1/Fs,C1,'k');\n",
    "ylabel('Cross Correlation');\n",
    "grid on\n",
    "xlabel('Time (sec)');\n",
    "linkaxes(ax(1:2),'x');"
   ]
  },
  {
   "cell_type": "markdown",
   "metadata": {},
   "source": [
    "![alt text](./facet_xcorr/best_trial_2.jpg \"Title\")\n",
    "\n",
    "`r_alg` = 0.976, `r_raw` = 0.974, `lag` = 23.4 ms\n",
    "\n",
    "##### III.1.2. 'Worst' trial (lowest correlation)\n",
    "![alt text](./facet_xcorr/worst_trial_2.jpg \"Title\")\n",
    "\n",
    "- `r_alg` = 0.714, `r_raw` = 0.614, `lag` = 81.3 ms\n",
    "- also trial with largest lag\n",
    "\n"
   ]
  }
 ],
 "metadata": {
  "kernelspec": {
   "display_name": "Matlab",
   "language": "matlab",
   "name": "matlab"
  },
  "language_info": {
   "codemirror_mode": "octave",
   "file_extension": ".m",
   "help_links": [
    {
     "text": "MetaKernel Magics",
     "url": "https://github.com/calysto/metakernel/blob/master/metakernel/magics/README.md"
    }
   ],
   "mimetype": "text/x-octave",
   "name": "matlab",
   "version": "0.10.1"
  }
 },
 "nbformat": 4,
 "nbformat_minor": 0
}
